{
  "nbformat": 4,
  "nbformat_minor": 0,
  "metadata": {
    "colab": {
      "name": "Lab4.ipynb",
      "version": "0.3.2",
      "provenance": [],
      "collapsed_sections": [],
      "include_colab_link": true
    },
    "kernelspec": {
      "name": "python3",
      "display_name": "Python 3"
    },
    "accelerator": "GPU"
  },
  "cells": [
    {
      "cell_type": "markdown",
      "metadata": {
        "id": "view-in-github",
        "colab_type": "text"
      },
      "source": [
        "[View in Colaboratory](https://colab.research.google.com/github/rdorff/DeepLearning/blob/master/Lab4.ipynb)"
      ]
    },
    {
      "metadata": {
        "id": "RqH2Q05m-uh9",
        "colab_type": "code",
        "colab": {}
      },
      "cell_type": "code",
      "source": [
        "!pip3 install torch\n",
        "!pip3 install torchvision\n",
        "!pip3 install tqdm"
      ],
      "execution_count": 0,
      "outputs": []
    },
    {
      "metadata": {
        "id": "TN75KpCK-zw6",
        "colab_type": "code",
        "colab": {}
      },
      "cell_type": "code",
      "source": [
        "import torch\n",
        "import torch.nn as nn\n",
        "import torch.nn.functional as F\n",
        "import torch.optim as optim\n",
        "from torch.utils.data import Dataset, DataLoader\n",
        "import numpy as np\n",
        "import matplotlib.pyplot as plt\n",
        "from torchvision import transforms, utils, datasets\n",
        "import torchvision\n",
        "from tqdm import tqdm\n",
        "import pdb\n",
        "import os\n",
        "import gzip\n",
        "import tarfile\n",
        "import gc\n",
        "from IPython.core.ultratb import AutoFormattedTB\n",
        "__ITB__ = AutoFormattedTB(mode = 'Verbose',color_scheme='LightBg', tb_offset = 1)\n",
        "\n",
        "assert torch.cuda.is_available()"
      ],
      "execution_count": 0,
      "outputs": []
    },
    {
      "metadata": {
        "id": "Uqbrw390-23N",
        "colab_type": "code",
        "colab": {}
      },
      "cell_type": "code",
      "source": [
        "class CancerDataset(Dataset):\n",
        "  def __init__(self, root, download=True, size=512, train=True):\n",
        "    if download and not os.path.exists(os.path.join(root, 'cancer_data')):\n",
        "      datasets.utils.download_url('http://liftothers.org/cancer_data.tar.gz', root, 'cancer_data.tar.gz', None)\n",
        "      self.extract_gzip(os.path.join(root, 'cancer_data.tar.gz'))\n",
        "      self.extract_tar(os.path.join(root, 'cancer_data.tar'))\n",
        " \n",
        "    postfix = 'train' if train else 'test'\n",
        "    root = os.path.join(root, 'cancer_data', 'cancer_data')\n",
        "    self.dataset_folder = torchvision.datasets.ImageFolder(os.path.join(root, 'inputs_' + postfix) ,transform = transforms.Compose([transforms.Resize(size),transforms.ToTensor()]))\n",
        "    self.label_folder = torchvision.datasets.ImageFolder(os.path.join(root, 'outputs_' + postfix) ,transform = transforms.Compose([transforms.Resize(size),transforms.ToTensor()]))\n",
        " \n",
        "  @staticmethod\n",
        "  def extract_gzip(gzip_path, remove_finished=False):\n",
        "    print('Extracting {}'.format(gzip_path))\n",
        "    with open(gzip_path.replace('.gz', ''), 'wb') as out_f, gzip.GzipFile(gzip_path) as zip_f:\n",
        "      out_f.write(zip_f.read())\n",
        "    if remove_finished:\n",
        "      os.unlink(gzip_path)\n",
        " \n",
        "  @staticmethod\n",
        "  def extract_tar(tar_path):\n",
        "    print('Untarring {}'.format(tar_path))\n",
        "    z = tarfile.TarFile(tar_path)\n",
        "    z.extractall(tar_path.replace('.tar', ''))\n",
        " \n",
        " \n",
        "  def __getitem__(self,index):\n",
        "    img = self.dataset_folder[index]\n",
        "    label = self.label_folder[index]\n",
        "    return img[0],label[0][0]\n",
        " \n",
        "  def __len__(self):\n",
        "    return len(self.dataset_folder)"
      ],
      "execution_count": 0,
      "outputs": []
    },
    {
      "metadata": {
        "id": "I2m4QwNv-5Y1",
        "colab_type": "code",
        "colab": {}
      },
      "cell_type": "code",
      "source": [
        "class CancerDetection(nn.Module):\n",
        " \n",
        "  def __init__(self, dataset):\n",
        "    super(CancerDetection, self).__init__()\n",
        "    \n",
        "    x, y = dataset[0]\n",
        "    c, h, w = x.size()\n",
        "  \n",
        "    self.conv1 = nn.Conv2d(c, 64, kernel_size = 3, stride = 1)    #510\n",
        "    self.conv2 = nn.Conv2d(64, 64, kernel_size = 3, stride = 1)   #508\n",
        "    self.conv3 = nn.Conv2d(64, 128, kernel_size = 3, stride = 1)  #252\n",
        "    self.conv4 = nn.Conv2d(128, 128, kernel_size = 3, stride = 1) #250\n",
        "    \n",
        "    self.maxpool1 = nn.MaxPool2d(2)                               #254\n",
        "    \n",
        "    self.convT1 = nn.ConvTranspose2d(128, 64, kernel_size = 2, stride=2)   #500\n",
        "    \n",
        "    self.conv5 = nn.Conv2d(128, 64, kernel_size = 3)              #498\n",
        "    self.conv6 = nn.Conv2d(64, 64, kernel_size = 3)               #496\n",
        "    self.conv7 = nn.Conv2d(64, 2, kernel_size = 1)                #496\n",
        "      \n",
        " \n",
        "  def forward(self, input):\n",
        "    \n",
        "    # Contraction\n",
        "    conv1_out = F.relu(self.conv1(input))\n",
        "    conv2_out = F.relu(self.conv2(conv1_out))\n",
        "    copy_conv2 = conv2_out[:,:,4:504,4:504]\n",
        "    maxpool1_out = self.maxpool1(conv2_out)\n",
        "    \n",
        "    conv3_out = F.relu(self.conv3(maxpool1_out))\n",
        "    conv4_out = F.relu(self.conv4(conv3_out))\n",
        "    \n",
        "    convT1_out = self.convT1(conv4_out)    #500\n",
        "    cat1_out = torch.cat((copy_conv2, convT1_out), 1)\n",
        "    \n",
        "    conv5_out = F.relu(self.conv5(cat1_out))\n",
        "    conv6_out = F.relu(self.conv6(conv5_out))\n",
        "    conv7_out = self.conv7(conv6_out)\n",
        "    \n",
        "    return conv7_out\n",
        "  "
      ],
      "execution_count": 0,
      "outputs": []
    },
    {
      "metadata": {
        "id": "melCZg_--93a",
        "colab_type": "code",
        "colab": {
          "base_uri": "https://localhost:8080/",
          "height": 753
        },
        "outputId": "ddab80e7-aaa5-4367-f80b-1a1e3fcd06b8"
      },
      "cell_type": "code",
      "source": [
        "# Loop through data\n",
        "\n",
        "epoch_accuracy = []\n",
        "epoch_loss = []\n",
        "\n",
        "\n",
        "def scope():\n",
        "  try:\n",
        "    train_dataset = CancerDataset('/tmp/', download = True, train=True)\n",
        "    val_dataset = CancerDataset('/tmp/', download = False, train=False)\n",
        "    train_loader = DataLoader(train_dataset, batch_size=1, pin_memory=True)\n",
        "    \n",
        "    gc.collect()\n",
        "  #  print(torch.cuda.memory_allocated(0) / 1e9)\n",
        "\n",
        "    model=CancerDetection(train_dataset)\n",
        "    model = model.cuda()\n",
        "    objective = nn.CrossEntropyLoss()\n",
        "    optimizer = optim.Adam(model.parameters(), lr=1e-4)\n",
        "\n",
        "    for epoch in range(10):\n",
        "\n",
        "      loop = tqdm(total=len(train_loader), position=0, leave=False)\n",
        "      train_losses = []\n",
        "      accuracies = []\n",
        "      \n",
        "      # Train Data\n",
        "      for batch, (x, y_truth) in enumerate(train_loader):\n",
        "        x, y_truth = x.cuda(async=True), y_truth.cuda(async=True)\n",
        "\n",
        "        optimizer.zero_grad()\n",
        "        y_hat = model(x)\n",
        "        mod_y = y_truth[:,6:502,6:502]\n",
        "\n",
        "        loss = objective(y_hat, mod_y.long())\n",
        "        loss.backward()\n",
        "\n",
        "        train_losses.append(loss.item())\n",
        "\n",
        "        accuracy = (y_hat.argmax(1).float() == mod_y).float().mean()\n",
        "        accuracies.append(accuracy)\n",
        "        \n",
        "        loop.set_description('epoch:{}, loss:{:.4f}, accuracy:{:.3f}'.format(epoch, loss.item(), accuracy))\n",
        "        loop.update(1)\n",
        "\n",
        "        optimizer.step()\n",
        "        \n",
        "      epoch_accuracy.append(np.mean(accuracies))\n",
        "      epoch_loss.append(np.mean(train_losses))\n",
        "      print(np.mean(accuracies),np.mean(train_losses))\n",
        "\n",
        "      loop.close() \n",
        "  \n",
        "  except:\n",
        "    __ITB__()\n",
        "  \n",
        "  \n",
        "  # Plotting\n",
        "  plt.subplot(2, 2, 1)\n",
        "  plt.plot(epoch_loss)\n",
        "  plt.title('Training Loss')\n",
        "  plt.xlabel('Epoch')\n",
        "  plt.ylabel('Loss')\n",
        "\n",
        "  plt.subplot(2, 2, 2)\n",
        "  plt.plot(epoch_accuracy)\n",
        "  plt.title('Training Accuracy')\n",
        "  plt.xlabel('Epoch')\n",
        "  plt.ylabel('Accuracy')\n",
        "  plt.tight_layout()\n",
        "  plt.show()\n",
        "  \n",
        "  \n",
        "  # Predict pos_test_000072\n",
        "  x, y_truth = val_dataset.__getitem__(172)\n",
        "  x, y_truth = x.cuda(async=True).unsqueeze(0), y_truth.cuda(async=True).unsqueeze(0)\n",
        "  y_hat = model(x)\n",
        "  mod_y = y_truth[:,6:502,6:502]\n",
        "\n",
        "  loss = objective(y_hat, mod_y.long())\n",
        "  accuracy = (y_hat.argmax(1).float() == mod_y).float().mean()\n",
        "  \n",
        "  print(\"Loss/Accuracy: \", loss.data, accuracy.data)\n",
        "\n",
        "  cancerous = y_hat.squeeze()[0,:,:] \n",
        "  cancerous_copy = cancerous.clone()\n",
        "  cancerous_copy[cancerous>0] = 0\n",
        "  cancerous_copy[cancerous<=0] = 1\n",
        "  \n",
        "  full_y = torch.stack((cancerous_copy, cancerous_copy, cancerous_copy),0)\n",
        "\n",
        "  to_pil = torchvision.transforms.ToPILImage()\n",
        "  pred_img = to_pil(full_y.data.cpu())\n",
        "  pred_img\n",
        "  \n",
        "  npimg = full_y.detach().cpu().numpy()\n",
        "  plt.imshow(np.transpose(npimg, (1,2,0)), interpolation='nearest')\n",
        "scope()"
      ],
      "execution_count": 12,
      "outputs": [
        {
          "output_type": "stream",
          "text": [
            "  0%|          | 0/1342 [00:00<?, ?it/s]"
          ],
          "name": "stderr"
        },
        {
          "output_type": "stream",
          "text": [
            "0.889701 0.2581408321370482\n"
          ],
          "name": "stdout"
        },
        {
          "output_type": "stream",
          "text": [
            "  0%|          | 0/1342 [00:00<?, ?it/s]"
          ],
          "name": "stderr"
        },
        {
          "output_type": "stream",
          "text": [
            "0.9093012 0.2184466265872783\n"
          ],
          "name": "stdout"
        },
        {
          "output_type": "stream",
          "text": [
            "  0%|          | 0/1342 [00:00<?, ?it/s]"
          ],
          "name": "stderr"
        },
        {
          "output_type": "stream",
          "text": [
            "0.91829294 0.20559718222190035\n"
          ],
          "name": "stdout"
        },
        {
          "output_type": "stream",
          "text": [
            "  0%|          | 0/1342 [00:00<?, ?it/s]"
          ],
          "name": "stderr"
        },
        {
          "output_type": "stream",
          "text": [
            "0.92552567 0.19175451058935894\n"
          ],
          "name": "stdout"
        },
        {
          "output_type": "stream",
          "text": [
            "  0%|          | 0/1342 [00:00<?, ?it/s]"
          ],
          "name": "stderr"
        },
        {
          "output_type": "stream",
          "text": [
            "0.9286447 0.1836395656105298\n"
          ],
          "name": "stdout"
        },
        {
          "output_type": "stream",
          "text": [
            "  0%|          | 0/1342 [00:00<?, ?it/s]"
          ],
          "name": "stderr"
        },
        {
          "output_type": "stream",
          "text": [
            "0.9329552 0.17379317074523265\n"
          ],
          "name": "stdout"
        },
        {
          "output_type": "stream",
          "text": [
            "  0%|          | 0/1342 [00:00<?, ?it/s]"
          ],
          "name": "stderr"
        },
        {
          "output_type": "stream",
          "text": [
            "0.9377166 0.16549099082100693\n"
          ],
          "name": "stdout"
        },
        {
          "output_type": "stream",
          "text": [
            "  0%|          | 0/1342 [00:00<?, ?it/s]"
          ],
          "name": "stderr"
        },
        {
          "output_type": "stream",
          "text": [
            "0.9407108 0.1591418916200363\n"
          ],
          "name": "stdout"
        },
        {
          "output_type": "stream",
          "text": [
            "  0%|          | 0/1342 [00:00<?, ?it/s]"
          ],
          "name": "stderr"
        },
        {
          "output_type": "stream",
          "text": [
            "0.9421274 0.15682242251876705\n"
          ],
          "name": "stdout"
        },
        {
          "output_type": "stream",
          "text": [
            "                                                                                         "
          ],
          "name": "stderr"
        },
        {
          "output_type": "stream",
          "text": [
            "0.94141346 0.15539416280849686\n"
          ],
          "name": "stdout"
        },
        {
          "output_type": "stream",
          "text": [
            "\r"
          ],
          "name": "stderr"
        },
        {
          "output_type": "display_data",
          "data": {
            "image/png": "[encoded data removed]",
            "text/plain": [
              "<matplotlib.figure.Figure at 0x7f8a5bc4b4a8>"
            ]
          },
          "metadata": {
            "tags": []
          }
        },
        {
          "output_type": "stream",
          "text": [
            "Loss/Accuracy:  tensor(0.2832, device='cuda:0') tensor(0.9002, device='cuda:0')\n"
          ],
          "name": "stdout"
        },
        {
          "output_type": "display_data",
          "data": {
            "image/png": "[encoded data removed]",
            "text/plain": [
              "<matplotlib.figure.Figure at 0x7f8a592df320>"
            ]
          },
          "metadata": {
            "tags": []
          }
        }
      ]
    }
  ]
}